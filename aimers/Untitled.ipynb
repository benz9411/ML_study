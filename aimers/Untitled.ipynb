{
 "cells": [
  {
   "cell_type": "code",
   "execution_count": 1,
   "id": "2f33b6dc",
   "metadata": {},
   "outputs": [],
   "source": [
    "import numpy as np\n",
    "import pandas as pd\n",
    "\n",
    "from sklearn.preprocessing import MinMaxScaler\n",
    "import matplotlib.pyplot as plt"
   ]
  },
  {
   "cell_type": "code",
   "execution_count": 2,
   "id": "cf522b7b",
   "metadata": {},
   "outputs": [],
   "source": [
    "train_df = pd.read_csv('train.csv')\n",
    "test_df = pd.read_csv('test.csv')"
   ]
  },
  {
   "cell_type": "markdown",
   "id": "b1a0e7b0",
   "metadata": {},
   "source": [
    "### train\n",
    "PRODUCT_ID : 제품의 고유 ID  \n",
    "Y_Class : 제품 품질 상태(Target)   \n",
    "0 : 적정 기준 미달 (부적합)  \n",
    "1 : 적합  \n",
    "2 : 적정 기준 초과 (부적합)  \n",
    "Y_Quality : 제품 품질 관련 정량적 수치  \n",
    "TIMESTAMP : 제품이 공정에 들어간 시각  \n",
    "LINE : 제품이 들어간 공정 LINE 종류 ('T050304', 'T050307', 'T100304','T100306' 'T010306', 'T010305' 존재)   \n",
    "PRODUCT_CODE : 제품의 CODE 번호 ('A_31', 'T_31', 'O_31' 존재)  \n",
    "X_1 ~ X_2875 : 공정 과정에서 추출되어 비식별화된 변수"
   ]
  },
  {
   "cell_type": "code",
   "execution_count": 7,
   "id": "cb8226dc",
   "metadata": {},
   "outputs": [
    {
     "data": {
      "text/html": [
       "<div>\n",
       "<style scoped>\n",
       "    .dataframe tbody tr th:only-of-type {\n",
       "        vertical-align: middle;\n",
       "    }\n",
       "\n",
       "    .dataframe tbody tr th {\n",
       "        vertical-align: top;\n",
       "    }\n",
       "\n",
       "    .dataframe thead tr th {\n",
       "        text-align: left;\n",
       "    }\n",
       "\n",
       "    .dataframe thead tr:last-of-type th {\n",
       "        text-align: right;\n",
       "    }\n",
       "</style>\n",
       "<table border=\"1\" class=\"dataframe\">\n",
       "  <thead>\n",
       "    <tr>\n",
       "      <th></th>\n",
       "      <th colspan=\"8\" halign=\"left\">Y_Quality</th>\n",
       "    </tr>\n",
       "    <tr>\n",
       "      <th></th>\n",
       "      <th>count</th>\n",
       "      <th>mean</th>\n",
       "      <th>std</th>\n",
       "      <th>min</th>\n",
       "      <th>25%</th>\n",
       "      <th>50%</th>\n",
       "      <th>75%</th>\n",
       "      <th>max</th>\n",
       "    </tr>\n",
       "    <tr>\n",
       "      <th>Y_Class</th>\n",
       "      <th></th>\n",
       "      <th></th>\n",
       "      <th></th>\n",
       "      <th></th>\n",
       "      <th></th>\n",
       "      <th></th>\n",
       "      <th></th>\n",
       "      <th></th>\n",
       "    </tr>\n",
       "  </thead>\n",
       "  <tbody>\n",
       "    <tr>\n",
       "      <th>0</th>\n",
       "      <td>88.0</td>\n",
       "      <td>0.520837</td>\n",
       "      <td>0.004603</td>\n",
       "      <td>0.500856</td>\n",
       "      <td>0.519440</td>\n",
       "      <td>0.522054</td>\n",
       "      <td>0.524113</td>\n",
       "      <td>0.525067</td>\n",
       "    </tr>\n",
       "    <tr>\n",
       "      <th>1</th>\n",
       "      <td>407.0</td>\n",
       "      <td>0.530253</td>\n",
       "      <td>0.002444</td>\n",
       "      <td>0.525086</td>\n",
       "      <td>0.528378</td>\n",
       "      <td>0.530308</td>\n",
       "      <td>0.532129</td>\n",
       "      <td>0.534843</td>\n",
       "    </tr>\n",
       "    <tr>\n",
       "      <th>2</th>\n",
       "      <td>103.0</td>\n",
       "      <td>0.542031</td>\n",
       "      <td>0.008038</td>\n",
       "      <td>0.534951</td>\n",
       "      <td>0.536354</td>\n",
       "      <td>0.538508</td>\n",
       "      <td>0.546555</td>\n",
       "      <td>0.578841</td>\n",
       "    </tr>\n",
       "  </tbody>\n",
       "</table>\n",
       "</div>"
      ],
      "text/plain": [
       "        Y_Quality                                                              \\\n",
       "            count      mean       std       min       25%       50%       75%   \n",
       "Y_Class                                                                         \n",
       "0            88.0  0.520837  0.004603  0.500856  0.519440  0.522054  0.524113   \n",
       "1           407.0  0.530253  0.002444  0.525086  0.528378  0.530308  0.532129   \n",
       "2           103.0  0.542031  0.008038  0.534951  0.536354  0.538508  0.546555   \n",
       "\n",
       "                   \n",
       "              max  \n",
       "Y_Class            \n",
       "0        0.525067  \n",
       "1        0.534843  \n",
       "2        0.578841  "
      ]
     },
     "execution_count": 7,
     "metadata": {},
     "output_type": "execute_result"
    }
   ],
   "source": [
    "quality_df = train_df.loc[:,['Y_Class','Y_Quality']] #0부터시작해서 y_class , y_quality\n",
    "quality_group = quality_df.groupby('Y_Class').describe()\n",
    "quality_group"
   ]
  },
  {
   "cell_type": "code",
   "execution_count": 10,
   "id": "b047bfd2",
   "metadata": {},
   "outputs": [
    {
     "data": {
      "text/plain": [
       "Index(['PRODUCT_ID', 'Y_Class', 'Y_Quality', 'TIMESTAMP', 'LINE',\n",
       "       'PRODUCT_CODE', 'X_1', 'X_2', 'X_3', 'X_4',\n",
       "       ...\n",
       "       'X_2866', 'X_2867', 'X_2868', 'X_2869', 'X_2870', 'X_2871', 'X_2872',\n",
       "       'X_2873', 'X_2874', 'X_2875'],\n",
       "      dtype='object', length=2881)"
      ]
     },
     "execution_count": 10,
     "metadata": {},
     "output_type": "execute_result"
    }
   ],
   "source": [
    "columns_list = train_df.columns\n",
    "columns_list"
   ]
  }
 ],
 "metadata": {
  "kernelspec": {
   "display_name": "Python 3 (ipykernel)",
   "language": "python",
   "name": "python3"
  },
  "language_info": {
   "codemirror_mode": {
    "name": "ipython",
    "version": 3
   },
   "file_extension": ".py",
   "mimetype": "text/x-python",
   "name": "python",
   "nbconvert_exporter": "python",
   "pygments_lexer": "ipython3",
   "version": "3.9.7"
  }
 },
 "nbformat": 4,
 "nbformat_minor": 5
}
